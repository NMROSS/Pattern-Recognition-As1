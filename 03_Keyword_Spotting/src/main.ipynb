{
 "cells": [
  {
   "cell_type": "code",
   "execution_count": 1,
   "metadata": {
    "pycharm": {
     "name": "#%%\n"
    }
   },
   "outputs": [],
   "source": [
    "from svg import *\n",
    "from skimage import io\n",
    "from skimage.filters import threshold_otsu, try_all_threshold\n",
    "import matplotlib.pyplot as plt\n",
    "\n",
    "# Set default parameters for plots\n",
    "plt.rcParams[\"figure.figsize\"] = (10,10)\n",
    "plt.rcParams['image.cmap'] = 'gray'"
   ]
  },
  {
   "cell_type": "code",
   "execution_count": null,
   "metadata": {},
   "outputs": [],
   "source": [
    "p270svg = \"../res/ground-truth/locations/270.svg\"\n",
    "p270jpg = \"../res/images/270.jpg\"\n",
    "\n",
    "svg = SVG(p270svg)\n",
    "jpg = io.imread(p270jpg, as_gray=True)\n",
    "otsu = jpg > threshold_otsu(jpg)\n",
    "\n",
    "plt.imshow(otsu)\n",
    "fig, ax = try_all_threshold(jpg, figsize=(10, 8), verbose=False)\n",
    "plt.show()"
   ]
  },
  {
   "cell_type": "code",
   "execution_count": null,
   "metadata": {},
   "outputs": [],
   "source": [
    "p = svg.paths[0]\n",
    "print(p)\n",
    "\n",
    "box = p.bounding_box()\n",
    "print(box)"
   ]
  },
  {
   "cell_type": "code",
   "execution_count": null,
   "metadata": {},
   "outputs": [],
   "source": [
    "part = jpg[box.min[1]:box.max[1], box.min[0]:box.max[0]]\n",
    "\n",
    "plt.imshow(part)"
   ]
  },
  {
   "cell_type": "code",
   "execution_count": null,
   "metadata": {},
   "outputs": [],
   "source": []
  }
 ],
 "metadata": {
  "kernelspec": {
   "display_name": "Python 3",
   "language": "python",
   "name": "python3"
  },
  "language_info": {
   "codemirror_mode": {
    "name": "ipython",
    "version": 3
   },
   "file_extension": ".py",
   "mimetype": "text/x-python",
   "name": "python",
   "nbconvert_exporter": "python",
   "pygments_lexer": "ipython3",
   "version": "3.9.4"
  }
 },
 "nbformat": 4,
 "nbformat_minor": 1
}
