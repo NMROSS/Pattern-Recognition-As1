{
 "cells": [
  {
   "source": [
    "Import data in PNG form and split into Train, Test, Validate and load\n"
   ],
   "cell_type": "markdown",
   "metadata": {}
  },
  {
   "cell_type": "code",
   "execution_count": 1,
   "id": "402833b7",
   "metadata": {},
   "outputs": [],
   "source": [
    "from torchvision.datasets import ImageFolder\n",
    "from torch.utils.data import DataLoader, random_split\n",
    "from torchvision.transforms import ToTensor, Normalize, Compose, Grayscale\n",
    "\n",
    "train_set = '../Data/mnist-png-format/train'\n",
    "test_set = '../Data/mnist-png-format/test'\n",
    " \n",
    "batch_size = 256\n",
    "workers = 8\n",
    "\n",
    "transforms = Compose([\n",
    "                        Grayscale(num_output_channels=1),   # PNG file is RGB 3 layer convert to greyscal 1 layer\n",
    "                        ToTensor(),           \n",
    "                        Normalize(mean=(0.5), std=(0.5)), \n",
    "                        ])\n",
    "\n",
    "train_dataset = ImageFolder(train_set, transform=transforms)\n",
    "test_dataset = ImageFolder(test_set, transform=transforms)\n",
    "\n",
    "# Split Train dataset set into two (Train=85/Validation=15% split)\n",
    "train_size = int(len(train_dataset) * 0.85) \n",
    "validation_size = (len(train_dataset) - train_size) \n",
    "train, validation = random_split(train_dataset, [train_size, validation_size])\n",
    "\n",
    "# load data into usable format, mix/shuffle data so data is not in order \n",
    "train_data = DataLoader(train, batch_size = batch_size, shuffle = True, num_workers = workers)\n",
    "val_data  = DataLoader(validation, batch_size = batch_size, shuffle = True, num_workers = workers)\n",
    "test_data  = DataLoader(test_dataset, batch_size = batch_size, shuffle = True, num_workers = workers)"
   ]
  },
  {
   "cell_type": "code",
   "execution_count": 2,
   "id": "ef3940db",
   "metadata": {},
   "outputs": [],
   "source": [
    "from torch import nn, optim\n",
    "import torch\n",
    "\n",
    "class SingleLayerModel(nn.Module):\n",
    "    def __init__(self, neurons):\n",
    "        super().__init__()\n",
    "        self.hidden_1 = nn.Linear(28*28, neurons) # 28x28 Input image, number of neurons\n",
    "        self.output = nn.Linear(neurons, 10) # 10 class output 0-9\n",
    "\n",
    "\n",
    "    def forward(self, x):\n",
    "        x = x.view(x.shape[0], -1) \n",
    "        x = nn.functional.relu(self.hidden_1(x))\n",
    "        y = self.output(x)\n",
    "        return y"
   ]
  },
  {
   "cell_type": "code",
   "execution_count": 3,
   "metadata": {},
   "outputs": [],
   "source": [
    "# Optimisable parameters\n",
    "learning_rate = [0.0001, 0.001, 0.01]\n",
    "train_epochs = 5\n",
    "neurons = [10, 30, 50, 100]\n",
    "\n",
    "ModelMLP  = SingleLayerModel(neurons[3])\n",
    "optimiser = optim.Adam(ModelMLP.parameters(), lr=learning_rate[0])\n",
    "loss_func = nn.CrossEntropyLoss()"
   ]
  },
  {
   "cell_type": "code",
   "execution_count": 6,
   "metadata": {},
   "outputs": [],
   "source": [
    "def evaluate_model(model, eval_dataset):\n",
    "    model.eval() # Set model mode to evaluation not training\n",
    "    correct_batch = 0\n",
    "    loss_batch = 0\n",
    "    with torch.no_grad():                 # Gradient graph not require for evaluation should reduce memory usage\n",
    "      for (imgs, labels) in eval_dataset: # loop through each batch  \n",
    "        pred_y = model(imgs)\n",
    "        loss = loss_func(pred_y, labels)\n",
    "\n",
    "        pred = torch.max(pred_y, 1)[1]\n",
    "        correct_batch += (pred == labels).sum().item() # Calculate correct prediction where prediction == label \n",
    "        loss_batch += loss.item()\n",
    "\n",
    "    return correct_batch / len(eval_dataset.dataset), loss_batch / len(eval_dataset.dataset)"
   ]
  },
  {
   "cell_type": "code",
   "execution_count": 7,
   "metadata": {
    "tags": []
   },
   "outputs": [
    {
     "output_type": "stream",
     "name": "stdout",
     "text": [
      "Train accuracy = 85.54%, Train loss = 0.003 |          Validation accuracy = 87.34%, Validation loss = 0.002\n",
      "Train accuracy = 87.97%, Train loss = 0.002 |          Validation accuracy = 88.53%, Validation loss = 0.002\n",
      "Train accuracy = 89.09%, Train loss = 0.002 |          Validation accuracy = 89.63%, Validation loss = 0.002\n",
      "Train accuracy = 89.90%, Train loss = 0.001 |          Validation accuracy = 90.46%, Validation loss = 0.001\n",
      "Train accuracy = 90.40%, Train loss = 0.001 |          Validation accuracy = 90.66%, Validation loss = 0.001\n"
     ]
    }
   ],
   "source": [
    "  for i in range(train_epochs): # training epochs\n",
    "    correct_batch = 0\n",
    "    loss_batch = 0\n",
    "\n",
    "    for (imgs, labels) in train_data: # loop through each batch  \n",
    "      ModelMLP.train()\n",
    "      pred_y = ModelMLP(imgs)\n",
    "      loss = loss_func(pred_y, labels)\n",
    "\n",
    "      optimiser.zero_grad()\n",
    "      loss.backward()\n",
    "      optimiser.step()\n",
    "\n",
    "      pred = torch.max(pred_y, 1)[1]\n",
    "      correct_batch += (pred == labels).sum().item() # Calculate correct prediction where prediction == label \n",
    "      loss_batch += loss.item()\n",
    "\n",
    "    val_acc, val_loss = evaluate_model(ModelMLP, val_data)\n",
    "\n",
    "    print('Train accuracy = {0:.2%}, Train loss = {1:.6f} | \\\n",
    "           Validation accuracy = {2:.2%}, Validation loss = {3:.6f}'.format(correct_batch / len(train_data.dataset), loss_batch / len(train_data.dataset), val_acc, val_loss ))\n"
   ]
  },
  {
   "cell_type": "code",
   "execution_count": 34,
   "metadata": {},
   "outputs": [
    {
     "output_type": "stream",
     "name": "stdout",
     "text": [
      "Test accuracy = 93.03%\n"
     ]
    }
   ],
   "source": [
    "test, _ = evaluate_model(ModelMLP, test_data)\n",
    "print('Test accuracy = {0:.2%}'.format(test))"
   ]
  },
  {
   "cell_type": "code",
   "execution_count": null,
   "metadata": {},
   "outputs": [],
   "source": []
  }
 ],
 "metadata": {
  "kernelspec": {
   "display_name": "Python 3",
   "language": "python",
   "name": "python3"
  },
  "language_info": {
   "codemirror_mode": {
    "name": "ipython",
    "version": 3
   },
   "file_extension": ".py",
   "mimetype": "text/x-python",
   "name": "python",
   "nbconvert_exporter": "python",
   "pygments_lexer": "ipython3",
   "version": "3.8.6-final"
  }
 },
 "nbformat": 4,
 "nbformat_minor": 5
}