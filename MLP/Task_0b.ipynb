{
 "cells": [
  {
   "source": [
    "Import data in PNG form and split into Train, Test, Validate and load\n"
   ],
   "cell_type": "markdown",
   "metadata": {}
  },
  {
   "cell_type": "code",
   "execution_count": 3,
   "id": "402833b7",
   "metadata": {},
   "outputs": [],
   "source": [
    "from torchvision.datasets import ImageFolder\n",
    "from torch.utils.data import DataLoader, random_split\n",
    "from torchvision.transforms import ToTensor, Normalize, Compose, Grayscale\n",
    "\n",
    "train_set = '../Data/mnist-png-format/train'\n",
    "test_set = '../Data/mnist-png-format/test'\n",
    " \n",
    "batch_size = 64\n",
    "workers = 4\n",
    "\n",
    "transforms = Compose([\n",
    "                        Grayscale(num_output_channels=1),   # PNG file is RGB 3 layer convert to greyscal 1 layer\n",
    "                        ToTensor(),           \n",
    "                        Normalize(mean=(0.5), std=(0.5)), \n",
    "                        ])\n",
    "\n",
    "train_dataset = ImageFolder(train_set, transform=transforms)\n",
    "test_dataset = ImageFolder(test_set, transform=transforms)\n",
    "\n",
    "# Split Train dataset set into two (Train=85/Validation=15% split)\n",
    "train_size = int(len(train_dataset) * 0.85) \n",
    "validation_size = (len(train_dataset) - train_size) \n",
    "train, validation = random_split(train_dataset, [train_size, validation_size])\n",
    "\n",
    "# load data into usable format, mix/shuffle data so data is not in order \n",
    "train_data = DataLoader(train, batch_size = batch_size, shuffle = True, num_workers = workers)\n",
    "val_data  = DataLoader(validation, batch_size = batch_size, shuffle = True, num_workers = workers)\n",
    "test_data  = DataLoader(test_dataset, batch_size = batch_size, shuffle = True, num_workers = workers)"
   ]
  },
  {
   "cell_type": "code",
   "execution_count": 4,
   "id": "ef3940db",
   "metadata": {},
   "outputs": [],
   "source": [
    "from torch import nn, optim\n",
    "import torch\n",
    "\n",
    "class SingleLayerModel(nn.Module):\n",
    "    def __init__(self):\n",
    "        super().__init__()\n",
    "        self.hidden_1 = nn.Linear(28*28,100) # 28x28 Input image, number of neurons\n",
    "        self.output = nn.Linear(100,10) # 10 class output 0-9\n",
    "\n",
    "\n",
    "    def forward(self,x):\n",
    "        x = x.view(x.shape[0], -1) \n",
    "        x = nn.functional.relu(self.hidden_1(x))\n",
    "        y = self.output(x)\n",
    "        return y"
   ]
  },
  {
   "cell_type": "code",
   "execution_count": 7,
   "metadata": {},
   "outputs": [],
   "source": [
    "ModelMLP  = SingleLayerModel()\n",
    "optimiser = optim.Adam(ModelMLP.parameters())\n",
    "loss_func = nn.CrossEntropyLoss()\n",
    "train_epochs = 3"
   ]
  },
  {
   "cell_type": "code",
   "execution_count": 8,
   "metadata": {},
   "outputs": [],
   "source": [
    "def evaluate_model(model, eval_dataset):\n",
    "    model.eval() # Set model mode to evaluation not training\n",
    "    correct_batch = 0\n",
    "\n",
    "    with torch.no_grad():                 # Gradient graph not require for evaluation should reduce memory usage\n",
    "      for (imgs, labels) in eval_dataset: # loop through each batch  \n",
    "        pred_y = model(imgs)\n",
    "        loss = loss_func(pred_y, labels)\n",
    "\n",
    "        pred = torch.max(pred_y, 1)[1]\n",
    "        correct_batch += (pred == labels).sum().item() # Calculate correct prediction where prediction == label \n",
    "    return correct_batch / len(eval_dataset.dataset), loss.item()"
   ]
  },
  {
   "cell_type": "code",
   "execution_count": 6,
   "metadata": {
    "tags": []
   },
   "outputs": [
    {
     "output_type": "error",
     "ename": "NameError",
     "evalue": "name 'train_epochs' is not defined",
     "traceback": [
      "\u001b[0;31m---------------------------------------------------------------------------\u001b[0m",
      "\u001b[0;31mNameError\u001b[0m                                 Traceback (most recent call last)",
      "\u001b[0;32m<ipython-input-6-3bfade3218f7>\u001b[0m in \u001b[0;36m<module>\u001b[0;34m\u001b[0m\n\u001b[0;32m----> 1\u001b[0;31m \u001b[0;32mfor\u001b[0m \u001b[0mi\u001b[0m \u001b[0;32min\u001b[0m \u001b[0mrange\u001b[0m\u001b[0;34m(\u001b[0m\u001b[0mtrain_epochs\u001b[0m\u001b[0;34m)\u001b[0m\u001b[0;34m:\u001b[0m \u001b[0;31m# training epochs\u001b[0m\u001b[0;34m\u001b[0m\u001b[0;34m\u001b[0m\u001b[0m\n\u001b[0m\u001b[1;32m      2\u001b[0m   \u001b[0mcorrect_batch\u001b[0m \u001b[0;34m=\u001b[0m \u001b[0;36m0\u001b[0m\u001b[0;34m\u001b[0m\u001b[0;34m\u001b[0m\u001b[0m\n\u001b[1;32m      3\u001b[0m \u001b[0;34m\u001b[0m\u001b[0m\n\u001b[1;32m      4\u001b[0m   \u001b[0;32mfor\u001b[0m \u001b[0;34m(\u001b[0m\u001b[0mimgs\u001b[0m\u001b[0;34m,\u001b[0m \u001b[0mlabels\u001b[0m\u001b[0;34m)\u001b[0m \u001b[0;32min\u001b[0m \u001b[0mtrain_data\u001b[0m\u001b[0;34m:\u001b[0m \u001b[0;31m# loop through each batch\u001b[0m\u001b[0;34m\u001b[0m\u001b[0;34m\u001b[0m\u001b[0m\n\u001b[1;32m      5\u001b[0m     \u001b[0mModelMLP\u001b[0m\u001b[0;34m.\u001b[0m\u001b[0mtrain\u001b[0m\u001b[0;34m(\u001b[0m\u001b[0;34m)\u001b[0m\u001b[0;34m\u001b[0m\u001b[0;34m\u001b[0m\u001b[0m\n",
      "\u001b[0;31mNameError\u001b[0m: name 'train_epochs' is not defined"
     ]
    }
   ],
   "source": [
    "  for i in range(train_epochs): # training epochs\n",
    "    correct_batch = 0\n",
    "\n",
    "    for (imgs, labels) in train_data: # loop through each batch  \n",
    "      ModelMLP.train()\n",
    "      pred_y = ModelMLP(imgs)\n",
    "      loss = loss_func(pred_y, labels)\n",
    "\n",
    "      optimiser.zero_grad()\n",
    "      loss.backward()\n",
    "      optimiser.step()\n",
    "\n",
    "      pred = torch.max(pred_y, 1)[1]\n",
    "      correct_batch += (pred == labels).sum().item() # Calculate correct prediction where prediction == label \n",
    "\n",
    "    val_acc, val_loss = evaluate_model(ModelMLP, val_data)\n",
    "\n",
    "    print('Train accuracy = {0:.2%}, Train loss = {1:.3f} | \\\n",
    "           Validation accuracy = {2:.2%}, Validation loss = {3:.3f}'.format(correct_batch / len(train_data.dataset), loss.item(), val_acc, val_loss ))\n"
   ]
  },
  {
   "cell_type": "code",
   "execution_count": null,
   "metadata": {},
   "outputs": [],
   "source": [
    "test, _ = evaluate_model(ModelMLP, test_data)\n",
    "print('Test accuracy = {0:.2%}'.format(test))"
   ]
  },
  {
   "cell_type": "code",
   "execution_count": null,
   "metadata": {},
   "outputs": [],
   "source": []
  }
 ],
 "metadata": {
  "kernelspec": {
   "display_name": "Python 3",
   "language": "python",
   "name": "python3"
  },
  "language_info": {
   "codemirror_mode": {
    "name": "ipython",
    "version": 3
   },
   "file_extension": ".py",
   "mimetype": "text/x-python",
   "name": "python",
   "nbconvert_exporter": "python",
   "pygments_lexer": "ipython3",
   "version": "3.8.6-final"
  }
 },
 "nbformat": 4,
 "nbformat_minor": 5
}