{
 "cells": [
  {
   "cell_type": "markdown",
   "id": "699b420d",
   "metadata": {},
   "source": [
    "Import data in PNG form and split into Train, Test, Validate\n"
   ]
  },
  {
   "cell_type": "code",
   "execution_count": 60,
   "id": "402833b7",
   "metadata": {},
   "outputs": [],
   "source": [
    "from torchvision.datasets import ImageFolder\n",
    "from torch.utils.data import DataLoader, random_split\n",
    "from torchvision.transforms import ToTensor, Normalize, Compose\n",
    "\n",
    "train_set = '../Data/mnist-png-format/train'\n",
    "test_set = '../Data/mnist-png-format/test'\n",
    "\n",
    "\n",
    "def load_mnist(batch_size, workers):\n",
    "      '''\n",
    "      Load MNIST data returns tuple (Train, Validation, Test)\n",
    "      '''\n",
    "        \n",
    "      transforms = Compose([\n",
    "                              ToTensor(),           \n",
    "                              Normalize(mean=(0.5, 0.5, 0.5,), std=(0.5, 0.5, 0.5)), \n",
    "                              ])\n",
    "\n",
    "      train_dataset = ImageFolder(train_set, transform=transforms)\n",
    "      test_dataset = ImageFolder(test_set, transform=transforms)\n",
    "\n",
    "      # Split Train dataset set into two (Train=85/Validation=15% split)\n",
    "      train_size = int(len(train_dataset) * 0.85) \n",
    "      validation_size = (len(train_dataset) - train_size) \n",
    "      train, validation = random_split(train_dataset, [train_size, validation_size])\n",
    "      \n",
    "      # load data into usable format, mix data so data is not in order \n",
    "      train_dl = DataLoader(train, batch_size = batch_size, shuffle = True, num_workers = workers)\n",
    "      val_dl   = DataLoader(validation, batch_size = batch_size, shuffle = True, num_workers = workers)\n",
    "      test_dl  = DataLoader(test_dataset, batch_size = batch_size, shuffle = True, num_workers = workers)\n",
    "    \n",
    "      return train_dl, val_dl, test_dl"
   ]
  },
  {
   "cell_type": "code",
   "execution_count": 53,
   "id": "569c923a",
   "metadata": {},
   "outputs": [
    {
     "name": "stdout",
     "output_type": "stream",
     "text": [
      "0  1  2  3  4  5  6  7\t8  9\r\n"
     ]
    }
   ],
   "source": []
  },
  {
   "cell_type": "code",
   "execution_count": null,
   "id": "31e8796b",
   "metadata": {},
   "outputs": [],
   "source": []
  },
  {
   "cell_type": "code",
   "execution_count": null,
   "id": "ef3940db",
   "metadata": {},
   "outputs": [],
   "source": []
  }
 ],
 "metadata": {
  "kernelspec": {
   "display_name": "Python 3",
   "language": "python",
   "name": "python3"
  },
  "language_info": {
   "codemirror_mode": {
    "name": "ipython",
    "version": 3
   },
   "file_extension": ".py",
   "mimetype": "text/x-python",
   "name": "python",
   "nbconvert_exporter": "python",
   "pygments_lexer": "ipython3",
   "version": "3.8.6"
  }
 },
 "nbformat": 4,
 "nbformat_minor": 5
}
