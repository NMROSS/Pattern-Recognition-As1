{
 "cells": [
  {
   "cell_type": "markdown",
   "id": "699b420d",
   "metadata": {},
   "source": [
    "Import data in PNG form and split into Train, Test, Validate and load\n"
   ]
  },
  {
   "cell_type": "code",
   "execution_count": 46,
   "id": "402833b7",
   "metadata": {},
   "outputs": [],
   "source": [
    "from torchvision.datasets import ImageFolder\n",
    "from torch.utils.data import DataLoader, random_split\n",
    "from torchvision.transforms import ToTensor, Normalize, Compose, Grayscale\n",
    "\n",
    "train_set = '../Data/mnist-png-format/train'\n",
    "test_set = '../Data/mnist-png-format/test'\n",
    " \n",
    "batch_size =64\n",
    "workers = 2\n",
    "\n",
    "transforms = Compose([\n",
    "                        Grayscale(num_output_channels=1),   # PNG file is RGB 3 layer convert to greyscal 1 layer\n",
    "                        ToTensor(),           \n",
    "                        Normalize(mean=(0.5), std=(0.5)), \n",
    "                        ])\n",
    "\n",
    "train_dataset = ImageFolder(train_set, transform=transforms)\n",
    "test_dataset = ImageFolder(test_set, transform=transforms)\n",
    "\n",
    "# Split Train dataset set into two (Train=85/Validation=15% split)\n",
    "train_size = int(len(train_dataset) * 0.85) \n",
    "validation_size = (len(train_dataset) - train_size) \n",
    "train, validation = random_split(train_dataset, [train_size, validation_size])\n",
    "\n",
    "# load data into usable format, mix/shuffle data so data is not in order \n",
    "train_data = DataLoader(train, batch_size = batch_size, shuffle = True, num_workers = workers)\n",
    "val_data  = DataLoader(validation, batch_size = batch_size, shuffle = True, num_workers = workers)\n",
    "test_data  = DataLoader(test_dataset, batch_size = batch_size, shuffle = True, num_workers = workers)"
   ]
  },
  {
   "cell_type": "code",
   "execution_count": 47,
   "id": "ef3940db",
   "metadata": {},
   "outputs": [],
   "source": [
    "from torch import nn, optim\n",
    "\n",
    "class SingleLayerModel(nn.Module):\n",
    "    def __init__(self):\n",
    "        super().__init__()\n",
    "        self.hidden_1 = nn.Linear(28*28,100) # 28x28 Input image, number of neurons\n",
    "        self.output = nn.Linear(100,10) # 10 class output 0-9\n",
    "\n",
    "\n",
    "    def forward(self,x):\n",
    "        x = x.view(x.shape[0], -1) \n",
    "        x = nn.ReLU(self.hidden_1(x))\n",
    "        y = self.output(x)\n",
    "        return y"
   ]
  },
  {
   "cell_type": "code",
   "execution_count": 48,
   "metadata": {},
   "outputs": [],
   "source": [
    "ModelMLP  = SingleLayerModel()\n",
    "optimiser = optim.Adam(ModelMLP.parameters())\n",
    "loss_func = nn.CrossEntropyLoss()\n",
    "train_epochs = 1"
   ]
  },
  {
   "cell_type": "code",
   "execution_count": 49,
   "metadata": {
    "tags": []
   },
   "outputs": [
    {
     "output_type": "stream",
     "name": "stdout",
     "text": [
      "torch.Size([64, 1, 28, 28])\n"
     ]
    }
   ],
   "source": [
    "  for i in range(train_epochs): # training epochs\n",
    "    for (imgs, labels) in train_data: # loop through each batch  \n",
    "      print(imgs.shape)\n",
    "      break\n",
    "      #pred_y = ModelMLP(imgs)\n",
    "      #loss = loss_func(pred_y, labels)\n",
    "      #optimizer.zero_grad()\n",
    "      #loss.backward()\n",
    "      #optimizer.step()"
   ]
  },
  {
   "cell_type": "code",
   "execution_count": null,
   "metadata": {},
   "outputs": [],
   "source": []
  }
 ],
 "metadata": {
  "kernelspec": {
   "display_name": "Python 3",
   "language": "python",
   "name": "python3"
  },
  "language_info": {
   "codemirror_mode": {
    "name": "ipython",
    "version": 3
   },
   "file_extension": ".py",
   "mimetype": "text/x-python",
   "name": "python",
   "nbconvert_exporter": "python",
   "pygments_lexer": "ipython3",
   "version": "3.8.6-final"
  }
 },
 "nbformat": 4,
 "nbformat_minor": 5
}