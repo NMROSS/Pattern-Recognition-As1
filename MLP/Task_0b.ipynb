{
  "nbformat": 4,
  "nbformat_minor": 5,
  "metadata": {
    "kernelspec": {
      "display_name": "Python 3",
      "language": "python",
      "name": "python3"
    },
    "language_info": {
      "codemirror_mode": {
        "name": "ipython",
        "version": 3
      },
      "file_extension": ".py",
      "mimetype": "text/x-python",
      "name": "python",
      "nbconvert_exporter": "python",
      "pygments_lexer": "ipython3",
      "version": "3.8.6-final"
    },
    "colab": {
      "name": "Task_0b.ipynb",
      "provenance": [],
      "collapsed_sections": []
    }
  },
  "cells": [
    {
      "cell_type": "code",
      "metadata": {
        "colab": {
          "base_uri": "https://localhost:8080/"
        },
        "id": "pZQHmrR0fzq7",
        "outputId": "cf6cf556-b054-4069-fb6e-547255607a1c"
      },
      "source": [
        "from google.colab import drive\n",
        "drive.mount('/content/drive')\n",
        "\n",
        "!tar xf drive/MyDrive/Colab\\ Notebooks/data/mnist-png-format.tar.xz -C /content/"
      ],
      "id": "pZQHmrR0fzq7",
      "execution_count": null,
      "outputs": [
        {
          "output_type": "stream",
          "text": [
            "Drive already mounted at /content/drive; to attempt to forcibly remount, call drive.mount(\"/content/drive\", force_remount=True).\n"
          ],
          "name": "stdout"
        }
      ]
    },
    {
      "cell_type": "markdown",
      "metadata": {
        "id": "DcgsHeQlWFGy"
      },
      "source": [
        "Enable CUDA for GPU acceleration \n"
      ],
      "id": "DcgsHeQlWFGy"
    },
    {
      "cell_type": "code",
      "metadata": {
        "colab": {
          "base_uri": "https://localhost:8080/"
        },
        "id": "lUnCDlEmWCXq",
        "outputId": "4e3c8c1b-996e-4282-b731-2dd94dc2cc39"
      },
      "source": [
        "import torch\n",
        "if torch.cuda.is_available():\n",
        "  device = torch.device(\"cuda\")\n",
        "else:\n",
        "  device = torch.device(\"cpu\")\n",
        "\n",
        "print(device)"
      ],
      "id": "lUnCDlEmWCXq",
      "execution_count": 24,
      "outputs": [
        {
          "output_type": "stream",
          "text": [
            "cpu\n"
          ],
          "name": "stdout"
        }
      ]
    },
    {
      "cell_type": "markdown",
      "metadata": {
        "id": "RbFdbVEHRAdI"
      },
      "source": [
        "Import data in PNG form and split into Train, Test, Validate and load\n"
      ],
      "id": "RbFdbVEHRAdI"
    },
    {
      "cell_type": "code",
      "metadata": {
        "id": "402833b7"
      },
      "source": [
        "from torchvision.datasets import ImageFolder\n",
        "from torch.utils.data import DataLoader, random_split\n",
        "from torchvision.transforms import ToTensor, Normalize, Compose, Grayscale\n",
        "\n",
        "train_set = '/content/mnist-png-format/train'\n",
        "test_set = '/content/mnist-png-format/test'\n",
        " \n",
        "batch_size = 256\n",
        "workers = 2\n",
        "\n",
        "transforms = Compose([\n",
        "                        Grayscale(num_output_channels=1),   # PNG file is RGB 3 layer convert to greyscal 1 layer\n",
        "                        ToTensor(),           \n",
        "                        Normalize(mean=(0.5), std=(0.5)), \n",
        "                        ])\n",
        "\n",
        "train_dataset = ImageFolder(train_set, transform=transforms)\n",
        "test_dataset = ImageFolder(test_set, transform=transforms)\n",
        "\n",
        "# Split Train dataset set into two (Train=85/Validation=15% split)\n",
        "train_size = int(len(train_dataset) * 0.85) \n",
        "validation_size = (len(train_dataset) - train_size) \n",
        "train, validation = random_split(train_dataset, [train_size, validation_size])\n",
        "\n",
        "# load data into usable format, mix/shuffle data so data is not in order \n",
        "train_data = DataLoader(train, batch_size = batch_size, shuffle = True, num_workers = workers, pin_memory=True)\n",
        "val_data  = DataLoader(validation, batch_size = batch_size, shuffle = True, num_workers = workers, pin_memory=True)\n",
        "test_data  = DataLoader(test_dataset, batch_size = batch_size, shuffle = True, num_workers = workers, pin_memory=True)"
      ],
      "id": "402833b7",
      "execution_count": 25,
      "outputs": []
    },
    {
      "cell_type": "code",
      "metadata": {
        "id": "ef3940db"
      },
      "source": [
        "from torch import nn, optim\n",
        "\n",
        "class SingleLayerModel(nn.Module):\n",
        "    def __init__(self, neurons):\n",
        "        super().__init__()\n",
        "        self.hidden_1 = nn.Linear(28*28, neurons) # 28x28 Input image, number of neurons\n",
        "        self.output = nn.Linear(neurons, 10) # 10 class output 0-9\n",
        "\n",
        "\n",
        "    def forward(self, x):\n",
        "        x = x.view(x.shape[0], -1) \n",
        "        x = nn.functional.relu(self.hidden_1(x))\n",
        "        y = self.output(x)\n",
        "        return y"
      ],
      "id": "ef3940db",
      "execution_count": 26,
      "outputs": []
    },
    {
      "cell_type": "code",
      "metadata": {
        "id": "Kzo3_Rs5RAdl"
      },
      "source": [
        "# Optimisable parameters\n",
        "learning_rate = [0.0001, 0.001, 0.01]\n",
        "train_epochs = 7\n",
        "neurons = [10, 30, 50, 100]\n",
        "\n",
        "ModelMLP  = SingleLayerModel(neurons[2])\n",
        "optimiser = optim.Adam(ModelMLP.parameters(), lr=learning_rate[1])\n",
        "loss_func = nn.CrossEntropyLoss()"
      ],
      "id": "Kzo3_Rs5RAdl",
      "execution_count": 59,
      "outputs": []
    },
    {
      "cell_type": "code",
      "metadata": {
        "id": "OJhgbrY3RAdn"
      },
      "source": [
        "def evaluate_model(model, eval_dataset):\n",
        "    model = model.to(device)\n",
        "    model.eval() # Set model mode to evaluation not training\n",
        "    correct_batch = 0\n",
        "    loss_batch = 0\n",
        "    with torch.no_grad():                 # Gradient graph not require for evaluation should reduce memory usage\n",
        "      for (imgs, labels) in eval_dataset: # loop through each batch\n",
        "        imgs, labels = imgs.to(device), labels.to(device)\n",
        "\n",
        "        pred_y = model(imgs)\n",
        "        loss = loss_func(pred_y, labels)\n",
        "\n",
        "        pred = torch.max(pred_y, 1)[1]\n",
        "        correct_batch += (pred == labels).sum().item() # Calculate correct prediction where prediction == label \n",
        "        loss_batch += loss.item()\n",
        "\n",
        "    return correct_batch / len(eval_dataset.dataset), loss_batch / len(eval_dataset.dataset)"
      ],
      "id": "OJhgbrY3RAdn",
      "execution_count": 60,
      "outputs": []
    },
    {
      "cell_type": "code",
      "metadata": {
        "tags": [],
        "colab": {
          "base_uri": "https://localhost:8080/"
        },
        "id": "EhtEgZzCRAdp",
        "outputId": "50be3a73-39cd-4db9-8183-cdcf2431a72f"
      },
      "source": [
        "train_acc, train_loss = [], []\n",
        "val_acc,   val_loss   = [], []\n",
        "\n",
        "ModelMLP = ModelMLP.to(device)\n",
        "  \n",
        "for i in range(train_epochs): # training epochs\n",
        "  correct_batch = 0\n",
        "  loss_batch    = 0\n",
        "\n",
        "  for (imgs, labels) in train_data: # loop through each batch \n",
        "    imgs, labels = imgs.to(device), labels.to(device)\n",
        "    ModelMLP.train()\n",
        "    pred_y = ModelMLP(imgs)\n",
        "    loss = loss_func(pred_y, labels)\n",
        "\n",
        "    optimiser.zero_grad()\n",
        "    loss.backward()\n",
        "    optimiser.step()\n",
        "\n",
        "    pred = torch.max(pred_y, 1)[1]\n",
        "    correct_batch += (pred == labels).sum().item() # Calculate correct prediction where prediction == label \n",
        "    loss_batch += loss.item()\n",
        "\n",
        "  v_acc, v_loss = evaluate_model(ModelMLP, val_data)\n",
        "  val_acc.append(v_acc)\n",
        "  val_loss.append(v_loss)\n",
        "  train_acc.append(correct_batch / len(train_data.dataset))\n",
        "  train_loss.append(loss_batch / len(train_data.dataset))\n",
        "\n",
        "  print('Train accuracy = {0:.2%}, Train loss = {1:.6f} \\\n",
        "          Validation accuracy = {2:.2%}, Validation loss = {3:.6f}'.format(train_acc[-1], train_loss[-1], val_acc[-1], val_loss[-1] ))\n"
      ],
      "id": "EhtEgZzCRAdp",
      "execution_count": 61,
      "outputs": [
        {
          "output_type": "stream",
          "text": [
            "Train accuracy = 82.93%, Train loss = 0.002605           Validation accuracy = 88.90%, Validation loss = 0.001470\n",
            "Train accuracy = 90.40%, Train loss = 0.001296           Validation accuracy = 89.69%, Validation loss = 0.001340\n",
            "Train accuracy = 91.45%, Train loss = 0.001154           Validation accuracy = 91.30%, Validation loss = 0.001174\n",
            "Train accuracy = 92.18%, Train loss = 0.001056           Validation accuracy = 92.13%, Validation loss = 0.001075\n",
            "Train accuracy = 92.71%, Train loss = 0.000976           Validation accuracy = 92.76%, Validation loss = 0.000994\n",
            "Train accuracy = 93.41%, Train loss = 0.000893           Validation accuracy = 93.41%, Validation loss = 0.000922\n",
            "Train accuracy = 93.94%, Train loss = 0.000835           Validation accuracy = 93.28%, Validation loss = 0.000892\n"
          ],
          "name": "stdout"
        }
      ]
    },
    {
      "cell_type": "code",
      "metadata": {
        "id": "GU8jvlroRAds",
        "colab": {
          "base_uri": "https://localhost:8080/"
        },
        "outputId": "f262a12e-3be5-4d41-8488-d7e683c7ca8a"
      },
      "source": [
        "test, _ = evaluate_model(ModelMLP, test_data)\n",
        "print('Test accuracy = {0:.2%}'.format(test))"
      ],
      "id": "GU8jvlroRAds",
      "execution_count": 62,
      "outputs": [
        {
          "output_type": "stream",
          "text": [
            "Test accuracy = 93.90%\n"
          ],
          "name": "stdout"
        }
      ]
    },
    {
      "cell_type": "code",
      "metadata": {
        "colab": {
          "base_uri": "https://localhost:8080/",
          "height": 225
        },
        "id": "fwDos1qnsyRG",
        "outputId": "7d7cee38-5a4e-41bb-f2f7-5ec5314aed1c"
      },
      "source": [
        "import matplotlib.pyplot as plt\n",
        "\n",
        "def plot(t_acc, v_acc, t_loss, v_loss):\n",
        "  epochs = [*range(1,len(t_acc)+1, 1)]\n",
        "\n",
        "  fig, axes = plt.subplots(1,2, figsize=(10,3))\n",
        "  axes[0].plot(epochs, t_acc, label='Training Accuracy')\n",
        "  axes[0].plot(epochs, v_acc, label='Validation Accuracy')\n",
        "  axes[0].set_title('Accuracy')\n",
        "  axes[0].legend()\n",
        " \n",
        "  axes[1].plot(epochs, t_loss, label='Training loss')\n",
        "  axes[1].plot(epochs, v_loss, label='Validation loss')\n",
        "  axes[1].set_title('Loss')\n",
        "  axes[1].legend()\n",
        "\n",
        "  fig.tight_layout()\n",
        "  plt.show()\n",
        "\n",
        "plot(train_acc, val_acc, train_loss, val_loss)\n"
      ],
      "id": "fwDos1qnsyRG",
      "execution_count": 80,
      "outputs": [
        {
          "output_type": "display_data",
          "data": {
            "image/png": "[encoded data removed]",
            "text/plain": [
              "<Figure size 720x216 with 2 Axes>"
            ]
          },
          "metadata": {
            "tags": [],
            "needs_background": "light"
          }
        }
      ]
    },
    {
      "cell_type": "code",
      "metadata": {
        "id": "TlgREy-4t96b"
      },
      "source": [
        ""
      ],
      "id": "TlgREy-4t96b",
      "execution_count": null,
      "outputs": []
    }
  ]
}