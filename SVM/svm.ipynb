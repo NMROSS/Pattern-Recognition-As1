{
 "cells": [
  {
   "cell_type": "code",
   "execution_count": 1,
   "metadata": {},
   "outputs": [],
   "source": [
    "# Importing some needed packages\n",
    "\n",
    "import numpy as np\n",
    "import matplotlib.pyplot as plt\n",
    "from sklearn.svm import SVC, LinearSVC\n",
    "from sklearn.model_selection import GridSearchCV\n",
    "from sklearn.pipeline import make_pipeline\n",
    "from sklearn.preprocessing import StandardScaler\n",
    "\n",
    "# Set default parameters for plots\n",
    "plt.rcParams['figure.figsize'] = (12.0, 6.0)\n",
    "plt.rcParams['image.interpolation'] = 'nearest'\n",
    "plt.rcParams['image.cmap'] = 'gray'"
   ]
  },
  {
   "cell_type": "code",
   "execution_count": 2,
   "metadata": {},
   "outputs": [],
   "source": [
    "# Loading the datasets\n",
    "from pandas import read_csv\n",
    "\n",
    "train_data = read_csv('../Datasets/mnist_train.csv.gz', compression='gzip', header=None).to_numpy()\n",
    "test_data = read_csv('../Datasets/mnist_test.csv.gz', compression='gzip', header=None).to_numpy()"
   ]
  },
  {
   "cell_type": "code",
   "execution_count": 3,
   "metadata": {},
   "outputs": [],
   "source": [
    "# Split into features and labels\n",
    "\n",
    "X_train = train_data[:,1:]\n",
    "y_train = train_data[:,0]\n",
    "X_test = test_data[:,1:]\n",
    "y_test = test_data[:,0]"
   ]
  },
  {
   "cell_type": "code",
   "execution_count": 4,
   "metadata": {},
   "outputs": [
    {
     "data": {
      "image/png": "[encoded data removed]",
      "text/plain": [
       "<Figure size 864x432 with 15 Axes>"
      ]
     },
     "metadata": {
      "needs_background": "light"
     },
     "output_type": "display_data"
    }
   ],
   "source": [
    "# print some nice images\n",
    "\n",
    "fig, axes = plt.subplots(3,5)\n",
    "for i,ax in enumerate(axes.flat):\n",
    "    ax.imshow(X_train[i].reshape(28, 28))"
   ]
  },
  {
   "cell_type": "code",
   "execution_count": 5,
   "metadata": {
    "pycharm": {
     "is_executing": true
    }
   },
   "outputs": [],
   "source": [
    "# clf = make_pipeline(StandardScaler(), svm.SVC(cache_size=4000))\n",
    "# clf = svm.SVC(cache_size=4000)\n",
    "#clf = svm.LinearSVC(max_iter=10000)\n",
    "#clf = clf.fit(X_train, y_train)"
   ]
  },
  {
   "cell_type": "code",
   "execution_count": 6,
   "metadata": {},
   "outputs": [],
   "source": [
    "def svc_param_selection(estimator, X, y):\n",
    "    C = [0.001, 0.01, 0.1, 1, 10, 100]\n",
    "    gamma = [0.001, 0.01, 0.1, 1]\n",
    "    param_grid = {'C': C, 'gamma' : gamma}\n",
    "    grid_search = GridSearchCV(estimator, param_grid, n_jobs=-1)\n",
    "    grid_search.fit(X, y)\n",
    "    return grid_search.best_params_"
   ]
  },
  {
   "cell_type": "code",
   "execution_count": null,
   "metadata": {},
   "outputs": [],
   "source": [
    "rbf_best = svc_param_selection(\n",
    "    SVC(cache_size=4000),\n",
    "    X_train,\n",
    "    y_train,\n",
    ")\n",
    "\n",
    "print(\"Best parameters for linear SVC: {}\".format(rbf_best))"
   ]
  },
  {
   "cell_type": "code",
   "execution_count": null,
   "metadata": {
    "pycharm": {
     "is_executing": true
    }
   },
   "outputs": [],
   "source": [
    "from sklearn.metrics import accuracy_score, confusion_matrix\n",
    "\n",
    "def eval_clf(y_pred_train, y_train, y_pred_test, y_test):\n",
    "    acc_train = accuracy_score(y_train, y_pred_train)\n",
    "    acc_test = accuracy_score(y_test, y_pred_test)\n",
    "    cm_test = confusion_matrix(y_test, y_pred_test)\n",
    "\n",
    "    return acc_train, acc_test, cm_test"
   ]
  },
  {
   "cell_type": "code",
   "execution_count": null,
   "metadata": {
    "pycharm": {
     "is_executing": true
    }
   },
   "outputs": [],
   "source": [
    "acc_train, acc_test, cm_test = eval_clf(\n",
    "    clf.predict(X_train),\n",
    "    y_train,\n",
    "    clf.predict(X_test),\n",
    "    y_test\n",
    ")\n",
    "print(\"Linear SVM accuracy train: {}\".format(acc_train))\n",
    "print(\"Linear SVM accuracy test: {}\".format(acc_test))\n",
    "print(\"Confusion matrix:\\n%s\" % cm_test)"
   ]
  }
 ],
 "metadata": {
  "kernelspec": {
   "display_name": "Python 3",
   "language": "python",
   "name": "python3"
  },
  "language_info": {
   "codemirror_mode": {
    "name": "ipython",
    "version": 3
   },
   "file_extension": ".py",
   "mimetype": "text/x-python",
   "name": "python",
   "nbconvert_exporter": "python",
   "pygments_lexer": "ipython3",
   "version": "3.9.3"
  }
 },
 "nbformat": 4,
 "nbformat_minor": 1
}
