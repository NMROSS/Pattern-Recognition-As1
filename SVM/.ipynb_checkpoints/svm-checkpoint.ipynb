{
 "cells": [
  {
   "cell_type": "code",
   "execution_count": null,
   "metadata": {},
   "outputs": [],
   "source": [
    "# Importing some needed packages\n",
    "\n",
    "import numpy as np\n",
    "import matplotlib.pyplot as plt\n",
    "from sklearn.svm import SVC\n",
    "from sklearn.pipeline import make_pipeline\n",
    "from sklearn.preprocessing import StandardScaler\n",
    "\n",
    "# Set default parameters for plots\n",
    "plt.rcParams['figure.figsize'] = (12.0, 6.0)\n",
    "plt.rcParams['image.interpolation'] = 'nearest'\n",
    "plt.rcParams['image.cmap'] = 'gray'"
   ]
  },
  {
   "cell_type": "code",
   "execution_count": null,
   "metadata": {},
   "outputs": [],
   "source": [
    "# Loading the datasets\n",
    "from pandas import read_csv\n",
    "\n",
    "train_data = read_csv('../Datasets/mnist_train.csv.gz', compression='gzip', header=None).to_numpy()\n",
    "test_data = read_csv('../Datasets/mnist_test.csv.gz', compression='gzip', header=None).to_numpy()"
   ]
  },
  {
   "cell_type": "code",
   "execution_count": null,
   "metadata": {},
   "outputs": [],
   "source": [
    "# Split into features and labels\n",
    "\n",
    "X_train = train_data[:,1]\n",
    "y_train = train_data[:,0]\n",
    "X_test = test_data[:,1:]\n",
    "y_test = test_data[:,0]"
   ]
  },
  {
   "cell_type": "code",
   "execution_count": null,
   "metadata": {},
   "outputs": [],
   "source": [
    "# Scale features around 0 and same variance\n",
    "\n",
    "clf = make_pipeline(StandardScaler(), SVC(cache_size=4000))\n",
    "clf = clf.fit(X_train, y_train)"
   ]
  },
  {
   "cell_type": "code",
   "execution_count": 5,
   "metadata": {},
   "outputs": [],
   "source": [
    "from sklearn.metrics import accuracy_score, confusion_matrix\n",
    "\n",
    "def eval_clf(y_pred_train, y_train, y_pred_test, y_test):\n",
    "    acc_train = accuracy_score(y_train, y_pred_train)\n",
    "    acc_test = accuracy_score(y_test, y_pred_test)\n",
    "    cm_test = confusion_matrix(y_test, y_pred_test)\n",
    "\n",
    "    return acc_train, acc_test, cm_test"
   ]
  },
  {
   "cell_type": "code",
   "execution_count": null,
   "metadata": {},
   "outputs": [],
   "source": [
    "acc_train, acc_test, cm_test = eval_clf(\n",
    "    clf.predict(X_train),\n",
    "    y_train,\n",
    "    clf.predict(X_test),\n",
    "    y_test\n",
    ")\n",
    "print(\"Linear SVM accuracy train: {}\".format(acc_train))\n",
    "print(\"Linear SVM accuracy test: {}\".format(acc_test))\n",
    "print(\"Confusion matrix:\\n%s\" % cm_test)"
   ]
  },
  {
   "cell_type": "code",
   "execution_count": null,
   "metadata": {},
   "outputs": [],
   "source": [
    "# Linear SVM accuracy train: 0.9899166666666667\n",
    "# Linear SVM accuracy test: 0.9792\n",
    "# Confusion matrix:\n",
    "# [[ 973    0    1    0    0    2    1    1    2    0]\n",
    "#  [   0 1126    3    1    0    1    1    1    2    0]\n",
    "#  [   6    1 1006    2    1    0    2    7    6    1]\n",
    "#  [   0    0    2  995    0    2    0    5    5    1]\n",
    "#  [   0    0    5    0  961    0    3    0    2   11]\n",
    "#  [   2    0    0    9    0  871    4    1    4    1]\n",
    "#  [   6    2    0    0    2    3  944    0    1    0]\n",
    "#  [   0    6   11    1    1    0    0  996    2   11]\n",
    "#  [   3    0    2    6    3    2    2    3  950    3]\n",
    "#  [   3    4    1    7   10    2    1    7    4  970]]"
   ]
  }
 ],
 "metadata": {
  "kernelspec": {
   "display_name": "Python 3",
   "language": "python",
   "name": "python3"
  },
  "language_info": {
   "codemirror_mode": {
    "name": "ipython",
    "version": 3
   },
   "file_extension": ".py",
   "mimetype": "text/x-python",
   "name": "python",
   "nbconvert_exporter": "python",
   "pygments_lexer": "ipython3",
   "version": "3.9.3"
  }
 },
 "nbformat": 4,
 "nbformat_minor": 1
}
